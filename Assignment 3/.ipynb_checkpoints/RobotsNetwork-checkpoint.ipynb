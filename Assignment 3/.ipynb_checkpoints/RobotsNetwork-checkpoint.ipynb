{
 "cells": [
  {
   "cell_type": "code",
   "execution_count": 6,
   "metadata": {
    "collapsed": true
   },
   "outputs": [],
   "source": [
    "import numpy as np\n",
    "import pandas as pd\n",
    "import seaborn as sns\n",
    "import matplotlib.pyplot as plt\n",
    "import keras\n",
    "\n",
    "from keras.optimizers import SGD\n",
    "from keras.utils import to_categorical\n",
    "from keras.models import Sequential, Model\n",
    "from keras.layers import Dense,GRU, Dropout\n",
    "from sklearn.metrics import confusion_matrix\n",
    "from sklearn.preprocessing import LabelEncoder\n",
    "from sklearn.model_selection import train_test_split\n",
    "import warnings\n",
    "\n",
    "%matplotlib inline"
   ]
  },
  {
   "cell_type": "code",
   "execution_count": 7,
   "metadata": {},
   "outputs": [
    {
     "data": {
      "text/html": [
       "<div>\n",
       "<table border=\"1\" class=\"dataframe\">\n",
       "  <thead>\n",
       "    <tr style=\"text-align: right;\">\n",
       "      <th></th>\n",
       "      <th>row_id</th>\n",
       "      <th>series_id</th>\n",
       "      <th>measurement_number</th>\n",
       "      <th>orientation_X</th>\n",
       "      <th>orientation_Y</th>\n",
       "      <th>orientation_Z</th>\n",
       "      <th>orientation_W</th>\n",
       "      <th>angular_velocity_X</th>\n",
       "      <th>angular_velocity_Y</th>\n",
       "      <th>angular_velocity_Z</th>\n",
       "      <th>linear_acceleration_X</th>\n",
       "      <th>linear_acceleration_Y</th>\n",
       "      <th>linear_acceleration_Z</th>\n",
       "    </tr>\n",
       "  </thead>\n",
       "  <tbody>\n",
       "    <tr>\n",
       "      <th>0</th>\n",
       "      <td>0_0</td>\n",
       "      <td>0</td>\n",
       "      <td>0</td>\n",
       "      <td>-0.75853</td>\n",
       "      <td>-0.63435</td>\n",
       "      <td>-0.10488</td>\n",
       "      <td>-0.10597</td>\n",
       "      <td>0.107650</td>\n",
       "      <td>0.017561</td>\n",
       "      <td>0.000767</td>\n",
       "      <td>-0.74857</td>\n",
       "      <td>2.1030</td>\n",
       "      <td>-9.7532</td>\n",
       "    </tr>\n",
       "    <tr>\n",
       "      <th>1</th>\n",
       "      <td>0_1</td>\n",
       "      <td>0</td>\n",
       "      <td>1</td>\n",
       "      <td>-0.75853</td>\n",
       "      <td>-0.63434</td>\n",
       "      <td>-0.10490</td>\n",
       "      <td>-0.10600</td>\n",
       "      <td>0.067851</td>\n",
       "      <td>0.029939</td>\n",
       "      <td>0.003385</td>\n",
       "      <td>0.33995</td>\n",
       "      <td>1.5064</td>\n",
       "      <td>-9.4128</td>\n",
       "    </tr>\n",
       "    <tr>\n",
       "      <th>2</th>\n",
       "      <td>0_2</td>\n",
       "      <td>0</td>\n",
       "      <td>2</td>\n",
       "      <td>-0.75853</td>\n",
       "      <td>-0.63435</td>\n",
       "      <td>-0.10492</td>\n",
       "      <td>-0.10597</td>\n",
       "      <td>0.007275</td>\n",
       "      <td>0.028934</td>\n",
       "      <td>-0.005978</td>\n",
       "      <td>-0.26429</td>\n",
       "      <td>1.5922</td>\n",
       "      <td>-8.7267</td>\n",
       "    </tr>\n",
       "    <tr>\n",
       "      <th>3</th>\n",
       "      <td>0_3</td>\n",
       "      <td>0</td>\n",
       "      <td>3</td>\n",
       "      <td>-0.75852</td>\n",
       "      <td>-0.63436</td>\n",
       "      <td>-0.10495</td>\n",
       "      <td>-0.10597</td>\n",
       "      <td>-0.013053</td>\n",
       "      <td>0.019448</td>\n",
       "      <td>-0.008974</td>\n",
       "      <td>0.42684</td>\n",
       "      <td>1.0993</td>\n",
       "      <td>-10.0960</td>\n",
       "    </tr>\n",
       "    <tr>\n",
       "      <th>4</th>\n",
       "      <td>0_4</td>\n",
       "      <td>0</td>\n",
       "      <td>4</td>\n",
       "      <td>-0.75852</td>\n",
       "      <td>-0.63435</td>\n",
       "      <td>-0.10495</td>\n",
       "      <td>-0.10596</td>\n",
       "      <td>0.005135</td>\n",
       "      <td>0.007652</td>\n",
       "      <td>0.005245</td>\n",
       "      <td>-0.50969</td>\n",
       "      <td>1.4689</td>\n",
       "      <td>-10.4410</td>\n",
       "    </tr>\n",
       "  </tbody>\n",
       "</table>\n",
       "</div>"
      ],
      "text/plain": [
       "  row_id  series_id  measurement_number  orientation_X  orientation_Y  \\\n",
       "0    0_0          0                   0       -0.75853       -0.63435   \n",
       "1    0_1          0                   1       -0.75853       -0.63434   \n",
       "2    0_2          0                   2       -0.75853       -0.63435   \n",
       "3    0_3          0                   3       -0.75852       -0.63436   \n",
       "4    0_4          0                   4       -0.75852       -0.63435   \n",
       "\n",
       "   orientation_Z  orientation_W  angular_velocity_X  angular_velocity_Y  \\\n",
       "0       -0.10488       -0.10597            0.107650            0.017561   \n",
       "1       -0.10490       -0.10600            0.067851            0.029939   \n",
       "2       -0.10492       -0.10597            0.007275            0.028934   \n",
       "3       -0.10495       -0.10597           -0.013053            0.019448   \n",
       "4       -0.10495       -0.10596            0.005135            0.007652   \n",
       "\n",
       "   angular_velocity_Z  linear_acceleration_X  linear_acceleration_Y  \\\n",
       "0            0.000767               -0.74857                 2.1030   \n",
       "1            0.003385                0.33995                 1.5064   \n",
       "2           -0.005978               -0.26429                 1.5922   \n",
       "3           -0.008974                0.42684                 1.0993   \n",
       "4            0.005245               -0.50969                 1.4689   \n",
       "\n",
       "   linear_acceleration_Z  \n",
       "0                -9.7532  \n",
       "1                -9.4128  \n",
       "2                -8.7267  \n",
       "3               -10.0960  \n",
       "4               -10.4410  "
      ]
     },
     "execution_count": 7,
     "metadata": {},
     "output_type": "execute_result"
    }
   ],
   "source": [
    "X_train = pd.read_csv('./X_train.csv')\n",
    "y_train = pd.read_csv('./y_train.csv')\n",
    "X_test = pd.read_csv('./X_test.csv')\n",
    "\n",
    "X_train.head()"
   ]
  },
  {
   "cell_type": "code",
   "execution_count": 8,
   "metadata": {
    "collapsed": true
   },
   "outputs": [],
   "source": [
    "X_train['ang_velocity'] = np.sqrt(X_train.angular_velocity_X**2 + \n",
    "                               X_train.angular_velocity_Y**2 + \n",
    "                               X_train.angular_velocity_Z**2)"
   ]
  },
  {
   "cell_type": "code",
   "execution_count": 9,
   "metadata": {
    "collapsed": true
   },
   "outputs": [],
   "source": [
    "X_train['lin_accel'] = np.sqrt(X_train.linear_acceleration_X**2 + \n",
    "                            X_train.linear_acceleration_Y**2 + \n",
    "                            X_train.linear_acceleration_Z**2)"
   ]
  },
  {
   "cell_type": "code",
   "execution_count": 10,
   "metadata": {
    "collapsed": true
   },
   "outputs": [],
   "source": [
    "# The orientation can be represented in di \n",
    "# https://en.wikipedia.org/wiki/Conversion_between_quaternions_and_Euler_angles#Source_Code_2\n",
    "t3 = 2. * (X_train.orientation_W * X_train.orientation_Z + X_train.orientation_X * X_train.orientation_Y)\n",
    "t4 = 1. - 2. * (X_train.orientation_Y**2 + X_train.orientation_Z**2) \n",
    "X_train['yaw'] = np.arctan2(t3, t4)"
   ]
  },
  {
   "cell_type": "code",
   "execution_count": 11,
   "metadata": {
    "collapsed": true
   },
   "outputs": [],
   "source": [
    "sinr_cosp = 2. * (X_train.orientation_W * X_train.orientation_X + X_train.orientation_Y * X_train.orientation_Z)\n",
    "cosr_cosp = 1. - 2. * (X_train.orientation_X**2 + X_train.orientation_X**2)\n",
    "X_train['roll'] = np.arctan2(sinr_cosp, cosr_cosp)"
   ]
  },
  {
   "cell_type": "code",
   "execution_count": 29,
   "metadata": {
    "collapsed": true
   },
   "outputs": [],
   "source": [
    "sinp = 2. * (X_train.orientation_W * X_train.orientation_Y + X_train.orientation_Z * X_train.orientation_X)\n",
    "\n",
    "# Some rounding errors might result in sinp values like 1.00001 which would result in NaN\n",
    "# force all those down to 1 (same for -1)\n",
    "sinp[sinp>1] = 1\n",
    "sinp[sinp<-1] = -1\n",
    "\n",
    "X_train['pitch'] = np.arcsin(sinp)"
   ]
  },
  {
   "cell_type": "code",
   "execution_count": 30,
   "metadata": {
    "collapsed": true
   },
   "outputs": [],
   "source": [
    "\n",
    "X_arr = X_train[X_train.columns[1:]].values"
   ]
  },
  {
   "cell_type": "code",
   "execution_count": 31,
   "metadata": {
    "collapsed": true
   },
   "outputs": [],
   "source": [
    "X = X_arr.reshape((n_series, 128 , X_arr.shape[1]))"
   ]
  },
  {
   "cell_type": "code",
   "execution_count": 34,
   "metadata": {
    "collapsed": true
   },
   "outputs": [],
   "source": [
    "# Get rid of the series_id and measurment number, we don't want the models to see them\n",
    "X = X[:,:,2:]"
   ]
  },
  {
   "cell_type": "code",
   "execution_count": 37,
   "metadata": {},
   "outputs": [
    {
     "data": {
      "text/plain": [
       "(3810, 15)"
      ]
     },
     "execution_count": 37,
     "metadata": {},
     "output_type": "execute_result"
    }
   ],
   "source": [
    "# The numpy way\n",
    "means = np.mean(X, axis=1)\n",
    "means.shape\n",
    "# note the shape, we averaged the 128 measurements in each series, \n",
    "# so the axis for measurement number is gone, but the features are still here."
   ]
  },
  {
   "cell_type": "code",
   "execution_count": 40,
   "metadata": {},
   "outputs": [
    {
     "data": {
      "text/plain": [
       "array([[ 0.,  0.,  1., ...,  0.,  0.,  0.],\n",
       "       [ 0.,  1.,  0., ...,  0.,  0.,  0.],\n",
       "       [ 0.,  1.,  0., ...,  0.,  0.,  0.],\n",
       "       ..., \n",
       "       [ 0.,  0.,  1., ...,  0.,  0.,  0.],\n",
       "       [ 0.,  0.,  0., ...,  0.,  1.,  0.],\n",
       "       [ 0.,  0.,  0., ...,  0.,  0.,  0.]])"
      ]
     },
     "execution_count": 40,
     "metadata": {},
     "output_type": "execute_result"
    }
   ],
   "source": [
    "target = y_train['surface']\n",
    "n_labels = target.nunique()\n",
    "labels_names = target.unique()\n",
    "le = LabelEncoder()\n",
    "target = le.fit_transform(target.values)\n",
    "target = to_categorical(target)\n",
    "target\n"
   ]
  },
  {
   "cell_type": "code",
   "execution_count": 41,
   "metadata": {},
   "outputs": [
    {
     "name": "stdout",
     "output_type": "stream",
     "text": [
      "Train shape (3048, 128, 15)\n",
      "Validation shape (762, 128, 15)\n"
     ]
    },
    {
     "data": {
      "text/plain": [
       "array([[[-0.46882   ,  0.86955   ,  0.13206   , ..., -2.14980716,\n",
       "          1.19492105, -0.26897739],\n",
       "        [-0.46887   ,  0.86952   ,  0.13204   , ..., -2.14968157,\n",
       "          1.19540533, -0.26895393],\n",
       "        [-0.4689    ,  0.86951   ,  0.13201   , ..., -2.1496183 ,\n",
       "          1.195669  , -0.26893307],\n",
       "        ..., \n",
       "        [-0.47604   ,  0.86578   ,  0.13109   , ..., -2.13364268,\n",
       "          1.27268453, -0.26888865],\n",
       "        [-0.4761    ,  0.86575   ,  0.13112   , ..., -2.13352642,\n",
       "          1.27341307, -0.26891517],\n",
       "        [-0.47617   ,  0.86572   ,  0.13109   , ..., -2.13338149,\n",
       "          1.27415009, -0.26886   ]],\n",
       "\n",
       "       [[-0.95569   , -0.25386   , -0.044897  , ...,  0.52132639,\n",
       "          3.03107647,  0.15863693],\n",
       "        [-0.95544   , -0.2548    , -0.045062  , ...,  0.5232988 ,\n",
       "          3.03102524,  0.15915765],\n",
       "        [-0.95519   , -0.25575   , -0.04526   , ...,  0.52530572,\n",
       "          3.03095993,  0.15974983],\n",
       "        ..., \n",
       "        [-0.92158   , -0.35878   , -0.060971  , ...,  0.7448266 ,\n",
       "          3.02006247,  0.21088854],\n",
       "        [-0.92129   , -0.35952   , -0.061092  , ...,  0.74643733,\n",
       "          3.01994471,  0.21125548],\n",
       "        [-0.92101   , -0.36024   , -0.061231  , ...,  0.74801148,\n",
       "          3.01984763,  0.21162971]],\n",
       "\n",
       "       [[ 0.60844   ,  0.77942   ,  0.12123   , ...,  1.81769921,\n",
       "          2.59110979,  0.28740448],\n",
       "        [ 0.60876   ,  0.77918   ,  0.12115   , ...,  1.81688488,\n",
       "          2.59261417,  0.28745392],\n",
       "        [ 0.60911   ,  0.7789    ,  0.12111   , ...,  1.81596816,\n",
       "          2.59417753,  0.28753804],\n",
       "        ..., \n",
       "        [ 0.64888   ,  0.74605   ,  0.11658   , ...,  1.71163293,\n",
       "          2.73384173,  0.2953667 ],\n",
       "        [ 0.6492    ,  0.74576   ,  0.11657   , ...,  1.71075596,\n",
       "          2.73466871,  0.29545539],\n",
       "        [ 0.64954   ,  0.74547   ,  0.1165    , ...,  1.70984843,\n",
       "          2.73562078,  0.29549857]],\n",
       "\n",
       "       ..., \n",
       "       [[-0.25501   ,  0.95512   ,  0.14403   , ..., -2.61801874,\n",
       "          0.38270324, -0.15917722],\n",
       "        [-0.25494   ,  0.95513   ,  0.14402   , ..., -2.61814688,\n",
       "          0.38261087, -0.15915447],\n",
       "        [-0.25485   ,  0.95516   ,  0.14402   , ..., -2.61834508,\n",
       "          0.38251328, -0.15909029],\n",
       "        ..., \n",
       "        [-0.25101   ,  0.9562    ,  0.14411   , ..., -2.62645761,\n",
       "          0.37858632, -0.15652382],\n",
       "        [-0.25097   ,  0.95621   ,  0.14413   , ..., -2.62654432,\n",
       "          0.37858941, -0.15651158],\n",
       "        [-0.25097   ,  0.95621   ,  0.14414   , ..., -2.62654389,\n",
       "          0.37861728, -0.15653602]],\n",
       "\n",
       "       [[-0.65319   ,  0.74246   ,  0.10801   , ..., -1.69696426,\n",
       "          2.74758311, -0.29707782],\n",
       "        [-0.65298   ,  0.74264   ,  0.10808   , ..., -1.69753336,\n",
       "          2.74695856, -0.29711783],\n",
       "        [-0.65283   ,  0.74277   ,  0.10809   , ..., -1.69792723,\n",
       "          2.74654914, -0.29712533],\n",
       "        ..., \n",
       "        [-0.63441   ,  0.75857   ,  0.11051   , ..., -1.74699833,\n",
       "          2.69268293, -0.29531607],\n",
       "        [-0.63431   ,  0.75865   ,  0.11054   , ..., -1.74725924,\n",
       "          2.692347  , -0.29530497],\n",
       "        [-0.63423   ,  0.75873   ,  0.11054   , ..., -1.74750335,\n",
       "          2.69215317, -0.29523807]],\n",
       "\n",
       "       [[-0.31615   ,  0.9375    ,  0.13602   , ..., -2.48957456,\n",
       "          0.44674358, -0.18335738],\n",
       "        [-0.316     ,  0.93754   ,  0.13609   , ..., -2.48987217,\n",
       "          0.44672562, -0.18349092],\n",
       "        [-0.31582   ,  0.93759   ,  0.13613   , ..., -2.49023065,\n",
       "          0.44655891, -0.1835464 ],\n",
       "        ..., \n",
       "        [-0.30657   ,  0.94001   ,  0.14072   , ..., -2.50964311,\n",
       "          0.44260931, -0.1830606 ],\n",
       "        [-0.3064    ,  0.94005   ,  0.14082   , ..., -2.51000353,\n",
       "          0.44255925, -0.18300766],\n",
       "        [-0.30621   ,  0.94009   ,  0.14098   , ..., -2.51040053,\n",
       "          0.44265506, -0.18306086]]])"
      ]
     },
     "metadata": {},
     "output_type": "display_data"
    }
   ],
   "source": [
    "X_train, X_val, Y_train, Y_val = train_test_split(X, target, test_size=0.2, random_state=0)\n",
    "print('Train shape', X_train.shape)\n",
    "print('Validation shape', X_val.shape)\n",
    "display(X_train)"
   ]
  },
  {
   "cell_type": "code",
   "execution_count": 42,
   "metadata": {
    "collapsed": true
   },
   "outputs": [],
   "source": [
    "epochs = 100\n",
    "batch = 128\n",
    "lr = 0.001\n",
    "adam = optimizers.Adam(lr)"
   ]
  },
  {
   "cell_type": "code",
   "execution_count": 43,
   "metadata": {
    "collapsed": true
   },
   "outputs": [],
   "source": [
    "model = Sequential()\n",
    "model.add(GRU(80, input_shape=(128,15), activation='softsign', return_sequences=True))\n",
    "model.add(GRU(160, activation='softsign'))\n",
    "model.add(Dropout(0.25))\n",
    "model.add(Dense(40, activation='relu'))\n",
    "model.add(Dense(40, activation='softsign'))\n",
    "model.add(Dense(9, activation='softmax'))\n",
    "sgd = SGD(momentum=0.9, nesterov=True)\n",
    "model.compile(loss='categorical_crossentropy', optimizer=adam, metrics=['accuracy'])\n"
   ]
  },
  {
   "cell_type": "code",
   "execution_count": 47,
   "metadata": {},
   "outputs": [
    {
     "name": "stdout",
     "output_type": "stream",
     "text": [
      "_________________________________________________________________\n",
      "Layer (type)                 Output Shape              Param #   \n",
      "=================================================================\n",
      "gru_1 (GRU)                  (None, 128, 80)           23040     \n",
      "_________________________________________________________________\n",
      "gru_2 (GRU)                  (None, 160)               115680    \n",
      "_________________________________________________________________\n",
      "dropout_1 (Dropout)          (None, 160)               0         \n",
      "_________________________________________________________________\n",
      "dense_1 (Dense)              (None, 40)                6440      \n",
      "_________________________________________________________________\n",
      "dense_2 (Dense)              (None, 40)                1640      \n",
      "_________________________________________________________________\n",
      "dense_3 (Dense)              (None, 9)                 369       \n",
      "=================================================================\n",
      "Total params: 147,169\n",
      "Trainable params: 147,169\n",
      "Non-trainable params: 0\n",
      "_________________________________________________________________\n"
     ]
    },
    {
     "data": {
      "image/png": "[encoded data removed]",
      "text/plain": [
       "<Figure size 432x288 with 1 Axes>"
      ]
     },
     "metadata": {},
     "output_type": "display_data"
    }
   ],
   "source": [
    "plt.plot(history.history['loss'])\n",
    "model.summary()"
   ]
  },
  {
   "cell_type": "code",
   "execution_count": 48,
   "metadata": {},
   "outputs": [
    {
     "data": {
      "text/html": [
       "<div>\n",
       "<style scoped>\n",
       "    .dataframe tbody tr th:only-of-type {\n",
       "        vertical-align: middle;\n",
       "    }\n",
       "\n",
       "    .dataframe tbody tr th {\n",
       "        vertical-align: top;\n",
       "    }\n",
       "\n",
       "    .dataframe thead th {\n",
       "        text-align: right;\n",
       "    }\n",
       "</style>\n",
       "<table border=\"1\" class=\"dataframe\">\n",
       "  <thead>\n",
       "    <tr style=\"text-align: right;\">\n",
       "      <th></th>\n",
       "      <th>row_id</th>\n",
       "      <th>series_id</th>\n",
       "      <th>measurement_number</th>\n",
       "      <th>orientation_X</th>\n",
       "      <th>orientation_Y</th>\n",
       "      <th>orientation_Z</th>\n",
       "      <th>orientation_W</th>\n",
       "      <th>angular_velocity_X</th>\n",
       "      <th>angular_velocity_Y</th>\n",
       "      <th>angular_velocity_Z</th>\n",
       "      <th>linear_acceleration_X</th>\n",
       "      <th>linear_acceleration_Y</th>\n",
       "      <th>linear_acceleration_Z</th>\n",
       "    </tr>\n",
       "  </thead>\n",
       "  <tbody>\n",
       "    <tr>\n",
       "      <th>488443</th>\n",
       "      <td>3815_123</td>\n",
       "      <td>3815</td>\n",
       "      <td>123</td>\n",
       "      <td>-0.96683</td>\n",
       "      <td>0.20760</td>\n",
       "      <td>0.021964</td>\n",
       "      <td>-0.14715</td>\n",
       "      <td>-0.000390</td>\n",
       "      <td>-0.21457</td>\n",
       "      <td>0.57327</td>\n",
       "      <td>1.11380</td>\n",
       "      <td>3.9277</td>\n",
       "      <td>-9.0971</td>\n",
       "    </tr>\n",
       "    <tr>\n",
       "      <th>488444</th>\n",
       "      <td>3815_124</td>\n",
       "      <td>3815</td>\n",
       "      <td>124</td>\n",
       "      <td>-0.96668</td>\n",
       "      <td>0.20832</td>\n",
       "      <td>0.022090</td>\n",
       "      <td>-0.14712</td>\n",
       "      <td>-0.001529</td>\n",
       "      <td>-0.18984</td>\n",
       "      <td>0.56691</td>\n",
       "      <td>0.22492</td>\n",
       "      <td>3.4683</td>\n",
       "      <td>-9.4288</td>\n",
       "    </tr>\n",
       "    <tr>\n",
       "      <th>488445</th>\n",
       "      <td>3815_125</td>\n",
       "      <td>3815</td>\n",
       "      <td>125</td>\n",
       "      <td>-0.96653</td>\n",
       "      <td>0.20902</td>\n",
       "      <td>0.022185</td>\n",
       "      <td>-0.14713</td>\n",
       "      <td>0.001642</td>\n",
       "      <td>-0.16331</td>\n",
       "      <td>0.56650</td>\n",
       "      <td>0.66608</td>\n",
       "      <td>3.6620</td>\n",
       "      <td>-8.9208</td>\n",
       "    </tr>\n",
       "    <tr>\n",
       "      <th>488446</th>\n",
       "      <td>3815_126</td>\n",
       "      <td>3815</td>\n",
       "      <td>126</td>\n",
       "      <td>-0.96637</td>\n",
       "      <td>0.20974</td>\n",
       "      <td>0.022284</td>\n",
       "      <td>-0.14710</td>\n",
       "      <td>-0.000159</td>\n",
       "      <td>-0.16968</td>\n",
       "      <td>0.57515</td>\n",
       "      <td>0.37295</td>\n",
       "      <td>3.5197</td>\n",
       "      <td>-8.4622</td>\n",
       "    </tr>\n",
       "    <tr>\n",
       "      <th>488447</th>\n",
       "      <td>3815_127</td>\n",
       "      <td>3815</td>\n",
       "      <td>127</td>\n",
       "      <td>-0.96621</td>\n",
       "      <td>0.21048</td>\n",
       "      <td>0.022436</td>\n",
       "      <td>-0.14709</td>\n",
       "      <td>-0.023368</td>\n",
       "      <td>-0.20818</td>\n",
       "      <td>0.57540</td>\n",
       "      <td>0.40491</td>\n",
       "      <td>3.6126</td>\n",
       "      <td>-8.5836</td>\n",
       "    </tr>\n",
       "  </tbody>\n",
       "</table>\n",
       "</div>"
      ],
      "text/plain": [
       "          row_id  series_id  measurement_number  orientation_X  orientation_Y  \\\n",
       "488443  3815_123       3815                 123       -0.96683        0.20760   \n",
       "488444  3815_124       3815                 124       -0.96668        0.20832   \n",
       "488445  3815_125       3815                 125       -0.96653        0.20902   \n",
       "488446  3815_126       3815                 126       -0.96637        0.20974   \n",
       "488447  3815_127       3815                 127       -0.96621        0.21048   \n",
       "\n",
       "        orientation_Z  orientation_W  angular_velocity_X  angular_velocity_Y  \\\n",
       "488443       0.021964       -0.14715           -0.000390            -0.21457   \n",
       "488444       0.022090       -0.14712           -0.001529            -0.18984   \n",
       "488445       0.022185       -0.14713            0.001642            -0.16331   \n",
       "488446       0.022284       -0.14710           -0.000159            -0.16968   \n",
       "488447       0.022436       -0.14709           -0.023368            -0.20818   \n",
       "\n",
       "        angular_velocity_Z  linear_acceleration_X  linear_acceleration_Y  \\\n",
       "488443             0.57327                1.11380                 3.9277   \n",
       "488444             0.56691                0.22492                 3.4683   \n",
       "488445             0.56650                0.66608                 3.6620   \n",
       "488446             0.57515                0.37295                 3.5197   \n",
       "488447             0.57540                0.40491                 3.6126   \n",
       "\n",
       "        linear_acceleration_Z  \n",
       "488443                -9.0971  \n",
       "488444                -9.4288  \n",
       "488445                -8.9208  \n",
       "488446                -8.4622  \n",
       "488447                -8.5836  "
      ]
     },
     "execution_count": 48,
     "metadata": {},
     "output_type": "execute_result"
    }
   ],
   "source": [
    "X_test = pd.read_csv('./X_test.csv')\n",
    "X_test.tail()"
   ]
  },
  {
   "cell_type": "code",
   "execution_count": 45,
   "metadata": {
    "scrolled": true
   },
   "outputs": [
    {
     "name": "stdout",
     "output_type": "stream",
     "text": [
      "Seriens #5, surface: tiled\n"
     ]
    },
    {
     "data": {
      "text/plain": [
       "127"
      ]
     },
     "execution_count": 45,
     "metadata": {},
     "output_type": "execute_result"
    },
    {
     "data": {
      "image/png": "[encoded data removed]",
      "text/plain": [
       "<matplotlib.figure.Figure at 0x29c8427bda0>"
      ]
     },
     "metadata": {},
     "output_type": "display_data"
    }
   ],
   "source": [
    "# Total angular velocity\n",
    "X_test['ang_velocity'] = np.sqrt(X_test.angular_velocity_X**2 + \n",
    "                               X_test.angular_velocity_Y**2 + \n",
    "                               X_test.angular_velocity_Z**2)\n",
    "# Total linear acceleration\n",
    "X_test['lin_accel'] = np.sqrt(X_test.linear_acceleration_X**2 + \n",
    "                            X_test.linear_acceleration_Y**2 + \n",
    "                            X_test.linear_acceleration_Z**2)\n",
    "# The orientation can be represented in di \n",
    "# https://en.wikipedia.org/wiki/Conversion_between_quaternions_and_Euler_angles#Source_Code_2\n",
    "t3 = 2. * (X_test.orientation_W * X_test.orientation_Z + X_test.orientation_X * X_test.orientation_Y)\n",
    "t4 = 1. - 2. * (X_test.orientation_Y**2 + X_test.orientation_Z**2) \n",
    "X_test['yaw'] = np.arctan2(t3, t4)\n",
    "\n",
    "sinr_cosp = 2. * (X_test.orientation_W * X_test.orientation_X + X_test.orientation_Y * X_test.orientation_Z)\n",
    "cosr_cosp = 1. - 2. * (X_test.orientation_X**2 + X_test.orientation_X**2)\n",
    "X_test['roll'] = np.arctan2(sinr_cosp, cosr_cosp)\n",
    "\n",
    "sinp = 2. * (X_test.orientation_W * X_test.orientation_Y + X_test.orientation_Z * X_test.orientation_X)\n",
    "\n",
    "# Some rounding errors might result in sinp values like 1.00001 which would result in NaN\n",
    "# force all those down to 1 (same for -1)\n",
    "sinp[sinp>1] = 1\n",
    "sinp[sinp<-1] = -1\n",
    "\n",
    "X_test['pitch'] = np.arcsin(sinp)\n",
    "\n",
    "\n",
    "# Plot the computed features for one sample\n",
    "\n",
    "computed_cols = ['ang_velocity',\n",
    "                 'lin_accel',\n",
    "                 'yaw',\n",
    "                 'roll',\n",
    "                 'pitch',\n",
    "                 ]\n",
    "\n",
    "\n",
    "series = 5\n",
    "df = X_test[X_test.series_id==series]\n",
    "surface = y_train[y_train.series_id==series].surface.iloc[0]\n",
    "print('Seriens #%d, surface: %s' %(series, surface))\n",
    "\n",
    "plt.figure(figsize=(12,24))\n",
    "\n",
    "for i, col in enumerate(computed_cols):\n",
    "    plt.subplot(5,2,i+1)\n",
    "    plt.plot(df.measurement_number, df[col], '.-')\n",
    "    plt.title(col)\n",
    "    \n",
    "# How long is the longest series?\n",
    "X_test.measurement_number.max()"
   ]
  },
  {
   "cell_type": "code",
   "execution_count": 55,
   "metadata": {},
   "outputs": [
    {
     "data": {
      "text/plain": [
       "3816"
      ]
     },
     "execution_count": 55,
     "metadata": {},
     "output_type": "execute_result"
    }
   ],
   "source": [
    "# how many series do we have there?\n",
    "n_series = X_test.shape[0]//128\n",
    "n_series"
   ]
  },
  {
   "cell_type": "code",
   "execution_count": 56,
   "metadata": {
    "collapsed": true
   },
   "outputs": [],
   "source": [
    "X_arr_test = X_test[X_test.columns[1:]].values\n"
   ]
  },
  {
   "cell_type": "code",
   "execution_count": 57,
   "metadata": {
    "collapsed": true
   },
   "outputs": [],
   "source": [
    "test = X_arr_test.reshape((n_series, 128 , X_arr_test.shape[1]))"
   ]
  },
  {
   "cell_type": "code",
   "execution_count": 58,
   "metadata": {},
   "outputs": [
    {
     "data": {
      "text/plain": [
       "array([[  0,   1,   2, ..., 125, 126, 127],\n",
       "       [  0,   1,   2, ..., 125, 126, 127],\n",
       "       [  0,   1,   2, ..., 125, 126, 127],\n",
       "       ..., \n",
       "       [  0,   1,   2, ..., 125, 126, 127],\n",
       "       [  0,   1,   2, ..., 125, 126, 127],\n",
       "       [  0,   1,   2, ..., 125, 126, 127]])"
      ]
     },
     "execution_count": 58,
     "metadata": {},
     "output_type": "execute_result"
    }
   ],
   "source": [
    "# Check that the series id looks right\n",
    "test[:,:,0].astype(int)\n",
    "\n",
    "# Check that the measurement number looks right\n",
    "test[:,:,1].astype(int)"
   ]
  },
  {
   "cell_type": "code",
   "execution_count": 68,
   "metadata": {},
   "outputs": [
    {
     "data": {
      "text/html": [
       "<div>\n",
       "<style scoped>\n",
       "    .dataframe tbody tr th:only-of-type {\n",
       "        vertical-align: middle;\n",
       "    }\n",
       "\n",
       "    .dataframe tbody tr th {\n",
       "        vertical-align: top;\n",
       "    }\n",
       "\n",
       "    .dataframe thead th {\n",
       "        text-align: right;\n",
       "    }\n",
       "</style>\n",
       "<table border=\"1\" class=\"dataframe\">\n",
       "  <thead>\n",
       "    <tr style=\"text-align: right;\">\n",
       "      <th></th>\n",
       "      <th>series_id</th>\n",
       "      <th>surface</th>\n",
       "    </tr>\n",
       "  </thead>\n",
       "  <tbody>\n",
       "    <tr>\n",
       "      <th>0</th>\n",
       "      <td>0</td>\n",
       "      <td>tiled</td>\n",
       "    </tr>\n",
       "    <tr>\n",
       "      <th>1</th>\n",
       "      <td>1</td>\n",
       "      <td>carpet</td>\n",
       "    </tr>\n",
       "    <tr>\n",
       "      <th>2</th>\n",
       "      <td>2</td>\n",
       "      <td>tiled</td>\n",
       "    </tr>\n",
       "    <tr>\n",
       "      <th>3</th>\n",
       "      <td>3</td>\n",
       "      <td>wood</td>\n",
       "    </tr>\n",
       "    <tr>\n",
       "      <th>4</th>\n",
       "      <td>4</td>\n",
       "      <td>soft_pvc</td>\n",
       "    </tr>\n",
       "  </tbody>\n",
       "</table>\n",
       "</div>"
      ],
      "text/plain": [
       "   series_id   surface\n",
       "0          0     tiled\n",
       "1          1    carpet\n",
       "2          2     tiled\n",
       "3          3      wood\n",
       "4          4  soft_pvc"
      ]
     },
     "execution_count": 68,
     "metadata": {},
     "output_type": "execute_result"
    }
   ],
   "source": [
    "df.head()"
   ]
  },
  {
   "cell_type": "code",
   "execution_count": 69,
   "metadata": {},
   "outputs": [
    {
     "data": {
      "text/html": [
       "<div>\n",
       "<style scoped>\n",
       "    .dataframe tbody tr th:only-of-type {\n",
       "        vertical-align: middle;\n",
       "    }\n",
       "\n",
       "    .dataframe tbody tr th {\n",
       "        vertical-align: top;\n",
       "    }\n",
       "\n",
       "    .dataframe thead th {\n",
       "        text-align: right;\n",
       "    }\n",
       "</style>\n",
       "<table border=\"1\" class=\"dataframe\">\n",
       "  <thead>\n",
       "    <tr style=\"text-align: right;\">\n",
       "      <th></th>\n",
       "      <th>series_id</th>\n",
       "      <th>surface</th>\n",
       "    </tr>\n",
       "  </thead>\n",
       "  <tbody>\n",
       "    <tr>\n",
       "      <th>0</th>\n",
       "      <td>0</td>\n",
       "      <td>tiled</td>\n",
       "    </tr>\n",
       "    <tr>\n",
       "      <th>1</th>\n",
       "      <td>1</td>\n",
       "      <td>carpet</td>\n",
       "    </tr>\n",
       "    <tr>\n",
       "      <th>2</th>\n",
       "      <td>2</td>\n",
       "      <td>tiled</td>\n",
       "    </tr>\n",
       "    <tr>\n",
       "      <th>3</th>\n",
       "      <td>3</td>\n",
       "      <td>wood</td>\n",
       "    </tr>\n",
       "    <tr>\n",
       "      <th>4</th>\n",
       "      <td>4</td>\n",
       "      <td>soft_pvc</td>\n",
       "    </tr>\n",
       "  </tbody>\n",
       "</table>\n",
       "</div>"
      ],
      "text/plain": [
       "   series_id   surface\n",
       "0          0     tiled\n",
       "1          1    carpet\n",
       "2          2     tiled\n",
       "3          3      wood\n",
       "4          4  soft_pvc"
      ]
     },
     "execution_count": 69,
     "metadata": {},
     "output_type": "execute_result"
    }
   ],
   "source": [
    "submission = pd.read_csv('./sample_submission.csv')\n",
    "submission['surface'] = df['surface']\n",
    "submission.head()"
   ]
  },
  {
   "cell_type": "code",
   "execution_count": 70,
   "metadata": {
    "collapsed": true
   },
   "outputs": [],
   "source": [
    "submission.to_csv('submission', index = False)"
   ]
  }
 ],
 "metadata": {
  "kernelspec": {
   "display_name": "Python 3",
   "language": "python",
   "name": "python3"
  },
  "language_info": {
   "codemirror_mode": {
    "name": "ipython",
    "version": 3
   },
   "file_extension": ".py",
   "mimetype": "text/x-python",
   "name": "python",
   "nbconvert_exporter": "python",
   "pygments_lexer": "ipython3",
   "version": "3.6.0"
  }
 },
 "nbformat": 4,
 "nbformat_minor": 2
}
